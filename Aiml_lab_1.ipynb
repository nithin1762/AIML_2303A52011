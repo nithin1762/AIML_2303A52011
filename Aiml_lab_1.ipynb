{
  "nbformat": 4,
  "nbformat_minor": 0,
  "metadata": {
    "colab": {
      "provenance": [],
      "include_colab_link": true
    },
    "kernelspec": {
      "name": "python3",
      "display_name": "Python 3"
    },
    "language_info": {
      "name": "python"
    }
  },
  "cells": [
    {
      "cell_type": "markdown",
      "metadata": {
        "id": "view-in-github",
        "colab_type": "text"
      },
      "source": [
        "<a href=\"https://colab.research.google.com/github/nithin1762/AIML_2303A52011/blob/main/Aiml_lab_1.ipynb\" target=\"_parent\"><img src=\"https://colab.research.google.com/assets/colab-badge.svg\" alt=\"Open In Colab\"/></a>"
      ]
    },
    {
      "cell_type": "markdown",
      "source": [
        "lists\n",
        "arrays"
      ],
      "metadata": {
        "id": "Gsik3KbwilEV"
      }
    },
    {
      "cell_type": "code",
      "source": [
        "import numpy as np\n",
        "l1 =[1,2,3,4,5,6]\n",
        "ar1=np.array(l1)\n",
        "print(a1)\n",
        "ar1"
      ],
      "metadata": {
        "colab": {
          "base_uri": "https://localhost:8080/"
        },
        "id": "9E8TMwAHinzY",
        "outputId": "7c13dd62-6239-4783-9d96-27881bb76ec7"
      },
      "execution_count": null,
      "outputs": [
        {
          "output_type": "stream",
          "name": "stdout",
          "text": [
            "[1 2 3 4 5 6]\n"
          ]
        },
        {
          "output_type": "execute_result",
          "data": {
            "text/plain": [
              "array([1, 2, 3, 4, 5, 6])"
            ]
          },
          "metadata": {},
          "execution_count": 2
        }
      ]
    },
    {
      "cell_type": "markdown",
      "source": [
        "identify types using types()"
      ],
      "metadata": {
        "id": "0Uc6Uv76i7BF"
      }
    },
    {
      "cell_type": "code",
      "source": [
        "print(type(ar1))\n",
        "type(ar1)"
      ],
      "metadata": {
        "colab": {
          "base_uri": "https://localhost:8080/"
        },
        "id": "8ackDKKXjEl3",
        "outputId": "54c0a2bf-b2ef-4650-f68a-15e0cf10669f"
      },
      "execution_count": null,
      "outputs": [
        {
          "output_type": "stream",
          "name": "stdout",
          "text": [
            "<class 'numpy.ndarray'>\n"
          ]
        },
        {
          "output_type": "execute_result",
          "data": {
            "text/plain": [
              "numpy.ndarray"
            ]
          },
          "metadata": {},
          "execution_count": 3
        }
      ]
    },
    {
      "cell_type": "markdown",
      "source": [
        "mathematical opeeration"
      ],
      "metadata": {
        "id": "csQK06uZjLqs"
      }
    },
    {
      "cell_type": "code",
      "source": [
        "l2=[9,8,7,6,5,4]\n",
        "ar2=np.array(l2)\n",
        "print(f\"multiplication of {ar1} and {ar2} is {ar1*ar2}\")\n",
        "print(f\"division of {ar1} and {ar2} is {ar1/ar2}\")\n",
        "print(f\"powerof of {ar1} and {ar2} is {ar1**ar2}\")"
      ],
      "metadata": {
        "colab": {
          "base_uri": "https://localhost:8080/"
        },
        "id": "HP-s6czDjXnk",
        "outputId": "cecba07e-fa70-4802-ec76-25a392d88f0a"
      },
      "execution_count": null,
      "outputs": [
        {
          "output_type": "stream",
          "name": "stdout",
          "text": [
            "multiplication of [1 2 3 4 5 6] and [9 8 7 6 5 4] is [ 9 16 21 24 25 24]\n",
            "division of [1 2 3 4 5 6] and [9 8 7 6 5 4] is [0.11111111 0.25       0.42857143 0.66666667 1.         1.5       ]\n",
            "powerof of [1 2 3 4 5 6] and [9 8 7 6 5 4] is [   1  256 2187 4096 3125 1296]\n"
          ]
        }
      ]
    },
    {
      "cell_type": "markdown",
      "source": [
        "combining of text and addition of two arrays"
      ],
      "metadata": {
        "id": "4kTT4xPOjgh8"
      }
    },
    {
      "cell_type": "code",
      "source": [
        "print(f\"the addition of {ar1} and {ar2} is {ar1+ar2}\")\n"
      ],
      "metadata": {
        "colab": {
          "base_uri": "https://localhost:8080/"
        },
        "id": "J3KTduvCjnv5",
        "outputId": "491efad8-5f54-49bf-a949-db61c50192d6"
      },
      "execution_count": null,
      "outputs": [
        {
          "output_type": "stream",
          "name": "stdout",
          "text": [
            "the addition of [1 2 3 4 5 6] and [9 8 7 6 5 4] is [10 10 10 10 10 10]\n"
          ]
        }
      ]
    },
    {
      "cell_type": "markdown",
      "source": [
        "part2"
      ],
      "metadata": {
        "id": "OoYonM7Myvpb"
      }
    },
    {
      "cell_type": "code",
      "source": [],
      "metadata": {
        "id": "ToIp3hBuywwH"
      },
      "execution_count": null,
      "outputs": []
    },
    {
      "cell_type": "markdown",
      "source": [
        "\n",
        "part3"
      ],
      "metadata": {
        "id": "2G6bPSrGyxC5"
      }
    },
    {
      "cell_type": "code",
      "source": [
        "import numpy as np\n",
        "import pandas as pd\n",
        "data= pd.read_csv(\"HistoricalPrices.csv\")\n",
        "print(data)\n",
        "df1=pd.read_table(\"/content/task3\")\n",
        "print(df1)\n",
        "data3 = pd.read_excel(\"/content/file_example_XLS_10.xls\")\n",
        "print(data3)"
      ],
      "metadata": {
        "colab": {
          "base_uri": "https://localhost:8080/"
        },
        "id": "TVamS8tYyxUU",
        "outputId": "9af2ab7b-9b61-4589-d718-546c1e3aa6f2"
      },
      "execution_count": null,
      "outputs": [
        {
          "output_type": "stream",
          "name": "stdout",
          "text": [
            "        Date      Open      High       Low     Close\n",
            "0   08/07/24  39230.09  39477.96  38731.51  38763.45\n",
            "1   08/06/24  38736.22  39449.53  38638.30  38997.66\n",
            "2   08/05/24  39056.19  39056.19  38499.27  38703.27\n",
            "3   08/02/24  40075.33  40075.33  39358.68  39737.26\n",
            "4   08/01/24  40916.96  41096.66  40098.57  40347.97\n",
            "..       ...       ...       ...       ...       ...\n",
            "56  05/16/24  39912.34  40051.05  39864.68  39869.38\n",
            "57  05/15/24  39615.10  39935.04  39615.10  39908.00\n",
            "58  05/14/24  39466.76  39616.41  39371.92  39558.11\n",
            "59  05/13/24  39591.28  39647.39  39403.05  39431.51\n",
            "60  05/10/24  39466.52  39579.88  39406.26  39512.84\n",
            "\n",
            "[61 rows x 5 columns]\n",
            "  i am praneeth \n",
            "0       yohoohoh\n",
            "   0 First Name  Last Name  Gender        Country  Age        Date    Id\n",
            "0  1      Dulce      Abril  Female  United States   32  15/10/2017  1562\n",
            "1  2       Mara  Hashimoto  Female  Great Britain   25  16/08/2016  1582\n",
            "2  3     Philip       Gent    Male         France   36  21/05/2015  2587\n",
            "3  4   Kathleen     Hanner  Female  United States   25  15/10/2017  3549\n",
            "4  5    Nereida    Magwood  Female  United States   58  16/08/2016  2468\n",
            "5  6     Gaston      Brumm    Male  United States   24  21/05/2015  2554\n",
            "6  7       Etta       Hurn  Female  Great Britain   56  15/10/2017  3598\n",
            "7  8    Earlean     Melgar  Female  United States   27  16/08/2016  2456\n",
            "8  9   Vincenza    Weiland  Female  United States   40  21/05/2015  6548\n"
          ]
        }
      ]
    }
  ]
}